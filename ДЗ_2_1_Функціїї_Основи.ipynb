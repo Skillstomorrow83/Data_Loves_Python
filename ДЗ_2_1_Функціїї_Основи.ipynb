{
  "nbformat": 4,
  "nbformat_minor": 0,
  "metadata": {
    "colab": {
      "provenance": [],
      "include_colab_link": true
    },
    "kernelspec": {
      "name": "python3",
      "display_name": "Python 3"
    },
    "language_info": {
      "name": "python"
    }
  },
  "cells": [
    {
      "cell_type": "markdown",
      "metadata": {
        "id": "view-in-github",
        "colab_type": "text"
      },
      "source": [
        "<a href=\"https://colab.research.google.com/github/Skillstomorrow83/Data_Loves_Python/blob/main/%D0%94%D0%97_2_1_%D0%A4%D1%83%D0%BD%D0%BA%D1%86%D1%96%D1%97%D1%97_%D0%9E%D1%81%D0%BD%D0%BE%D0%B2%D0%B8.ipynb\" target=\"_parent\"><img src=\"https://colab.research.google.com/assets/colab-badge.svg\" alt=\"Open In Colab\"/></a>"
      ]
    },
    {
      "cell_type": "markdown",
      "source": [
        "# Домашнє завдання до теми \"Functions\""
      ],
      "metadata": {
        "id": "QtHabST6Ez_n"
      }
    },
    {
      "cell_type": "markdown",
      "source": [
        "1. Напишіть фукнцію `print_message`, яка виводить на екран \"Я програмую на Python💪\" і викличіть цю фукнцію 5 разів (найкраще це зробити в циклі).\n",
        "\n",
        "  **Увага**: фукнція має робити чітко лише зазначений функціонал. Наявність додаткового функціоналу і аргументів, які не потрібні для виконання безпосередньо завдання, буде вважатись помилкою."
      ],
      "metadata": {
        "id": "6pg_NzFq5_kO"
      }
    },
    {
      "cell_type": "code",
      "source": [
        "def print_message():\n",
        "  print(\"Я програмую на Python💪\")\n",
        "for prnt in range(5):\n",
        "  print_message()"
      ],
      "metadata": {
        "id": "RbXsfwI_D8ql",
        "colab": {
          "base_uri": "https://localhost:8080/"
        },
        "outputId": "5cdc9094-4cb7-4bd1-9a60-cbb729946566"
      },
      "execution_count": null,
      "outputs": [
        {
          "output_type": "stream",
          "name": "stdout",
          "text": [
            "Я програмую на Python💪\n",
            "Я програмую на Python💪\n",
            "Я програмую на Python💪\n",
            "Я програмую на Python💪\n",
            "Я програмую на Python💪\n"
          ]
        }
      ]
    },
    {
      "cell_type": "markdown",
      "source": [
        "2. Напишіть функцію `calculation` яка приймає на вхід 4 аргументи типу int - `a`, `b`, `c`, `d` і вертає результат обчислення такої формули: $ (a + b - c) * d $.\n",
        "\n",
        "  Викличте функцію на наступному наборі аргументів і виведіть результат на екран:\n",
        "  ```\n",
        "  a = 16\n",
        "  b = 4\n",
        "  c = 9\n",
        "  d = 3\n",
        "  ```"
      ],
      "metadata": {
        "id": "oyRpWRXWBL9N"
      }
    },
    {
      "cell_type": "code",
      "source": [
        "a = 16\n",
        "b = 4\n",
        "c = 9\n",
        "d = 3"
      ],
      "metadata": {
        "id": "7CekrI088hkO"
      },
      "execution_count": null,
      "outputs": []
    },
    {
      "cell_type": "code",
      "source": [
        "def calculation(a: int, b: int, c: int, d: int) -> int:\n",
        "  return (a + b - c) * d\n",
        "calculation(a, b, c, d)"
      ],
      "metadata": {
        "id": "Ggt2tx6kD-LS",
        "colab": {
          "base_uri": "https://localhost:8080/"
        },
        "outputId": "8eb7a2f2-5892-44ab-f0bd-bb167d9b7a5f"
      },
      "execution_count": null,
      "outputs": [
        {
          "output_type": "execute_result",
          "data": {
            "text/plain": [
              "33"
            ]
          },
          "metadata": {},
          "execution_count": 10
        }
      ]
    },
    {
      "cell_type": "markdown",
      "source": [
        "3. Напишіть функцію, яка додає до аргумента 15 і вертає результат додавання. Викличте функцію, передаючи в якості аргументів кожну з наступних змінних по черзі, і виведіть кожного разу результат на екран.\n",
        "```\n",
        "x = 9\n",
        "y = 14\n",
        "z = -19\n",
        "```"
      ],
      "metadata": {
        "id": "5hf1CbllDU_t"
      }
    },
    {
      "cell_type": "code",
      "source": [
        "x = 9\n",
        "y = 14\n",
        "z = -19"
      ],
      "metadata": {
        "id": "n5EH1dYR8rCG"
      },
      "execution_count": null,
      "outputs": []
    },
    {
      "cell_type": "code",
      "source": [
        "def fifteen(x: int) -> int:\n",
        "  return x + 15\n",
        "print(fifteen(x))\n",
        "print(fifteen(y))\n",
        "print(fifteen(z))"
      ],
      "metadata": {
        "id": "GvEs_nUtD_Cd",
        "colab": {
          "base_uri": "https://localhost:8080/"
        },
        "outputId": "9c14cf83-7a26-4ba0-e174-8c75ef2d2bd6"
      },
      "execution_count": null,
      "outputs": [
        {
          "output_type": "stream",
          "name": "stdout",
          "text": [
            "24\n",
            "29\n",
            "-4\n"
          ]
        }
      ]
    },
    {
      "cell_type": "markdown",
      "source": [
        "4. Напишіть функцію `multipy_numbers`, яка приймає два числа як аргументи і повертає їх добуток.\n",
        "\n",
        "  Викличіть функцію `multipy_numbers` на парах чисел\n",
        "- 10 і 2\n",
        "- 7 і 8\n",
        "- 1024 і 999.\n",
        "  \n",
        "  Виведіть результат кожного виклику.\n",
        "  При виконанні цього завдання з використанням циклу - отримаєте 2х балів за нього :)"
      ],
      "metadata": {
        "id": "bUuVBhie53uK"
      }
    },
    {
      "cell_type": "code",
      "source": [
        "def multipy_numbers(x, y):\n",
        "  return x * y\n",
        "numbers = [(10, 2), (7, 8), (1024, 999)]\n",
        "for x, y in numbers:\n",
        "    result = multipy_numbers(x, y)\n",
        "    print(f\"{x} * {y} = {result}\")"
      ],
      "metadata": {
        "id": "cDqrgZ4YEAKj",
        "colab": {
          "base_uri": "https://localhost:8080/"
        },
        "outputId": "9e0b182e-05e3-4897-8c86-a5f88f3af52c"
      },
      "execution_count": null,
      "outputs": [
        {
          "output_type": "stream",
          "name": "stdout",
          "text": [
            "10 * 2 = 20\n",
            "7 * 8 = 56\n",
            "1024 * 999 = 1022976\n"
          ]
        }
      ]
    },
    {
      "cell_type": "markdown",
      "source": [
        "5. **Ділення з перевіркою типів.**  \n",
        "\n",
        "  1. Напишіть функцію `int_division` яка приймає на вхід два аргументи типу `int` - `a` і `b`, і виконує ділення першого аргумента на другий: `a/b`. При цьому функція перед діленням перевіряє, чи другий аргумент не дорівнює 0. Якщо другий аргумент не 0, фукнція вертає результат ділення, інакше - замість виконання ділення, вертає повідомлення на екран \"Не можу виконати ділення на 0\".\n",
        "\n",
        "    Якщо типи, надані у функцію, не `int` - функція виводить повідомлення \"Не працюю з такими типами даних.\".\n",
        "\n",
        "  2. Запустіть функцію на наступних парах чисел:\n",
        "- 12 і 6\n",
        "- 20 і 0\n",
        "- 112 і 10\n",
        "- 99 і 0\n",
        "- 11 i 1.1\n",
        "\n",
        "    і виведіть на екран повідомлення \"Результат роботи функції: \" - і далі те, що повернула функція.\n",
        "\n",
        "  3. Дайте відповідь на питання: \"Чому в деяких випадках функція повернула None?\""
      ],
      "metadata": {
        "id": "I03t46k27dDZ"
      }
    },
    {
      "cell_type": "code",
      "source": [
        "# Фунція ділення двох чисел\n",
        "def int_division(a: int, b: int) -> int:\n",
        "  if isinstance(a, int) and isinstance(b, int):\n",
        "    if b != 0:\n",
        "      return a / b\n",
        "    else:\n",
        "      print(\"Не можу виконати ділення на 0.\")\n",
        "  else:\n",
        "    print(\"Не працюю з такими типами даних.\")\n",
        "\n",
        "# Запишемо задані пари чисел в список кортежів numbers\n",
        "numbers = [(12, 6), (20, 0), (112, 10), (99, 0), (11, 1.1)]\n",
        "\n",
        "# Запустимо функцію в циклі на парах чисел зі списку numbers\n",
        "for x, y in numbers:\n",
        "    result = int_division(x, y)\n",
        "    print(f\"Результат роботи функції: {x} / {y} = {result}\")"
      ],
      "metadata": {
        "id": "1-EQhxrAEEAb",
        "colab": {
          "base_uri": "https://localhost:8080/"
        },
        "outputId": "86b34ca2-05b9-4f2e-feff-0757efbc5946"
      },
      "execution_count": 31,
      "outputs": [
        {
          "output_type": "stream",
          "name": "stdout",
          "text": [
            "Результат роботи функції: 12 / 6 = 2.0\n",
            "Не можу виконати ділення на 0\n",
            "Результат роботи функції: 20 / 0 = None\n",
            "Результат роботи функції: 112 / 10 = 11.2\n",
            "Не можу виконати ділення на 0\n",
            "Результат роботи функції: 99 / 0 = None\n",
            "Не працюю з такими типами даних.\n",
            "Результат роботи функції: 11 / 1.1 = None\n"
          ]
        }
      ]
    },
    {
      "cell_type": "markdown",
      "source": [
        "В деяких випадках функція повертає None тому що в тій перевірці IF...ELSE відсутній оператор RETURN, тобто функція нічого не повертає, тільки друкує."
      ],
      "metadata": {
        "id": "U_YPGIwCP2eO"
      }
    },
    {
      "cell_type": "code",
      "source": [],
      "metadata": {
        "id": "Oohe_KLWA-_K"
      },
      "execution_count": null,
      "outputs": []
    }
  ]
}